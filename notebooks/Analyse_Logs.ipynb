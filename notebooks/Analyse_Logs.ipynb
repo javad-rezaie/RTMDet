{
 "cells": [
  {
   "cell_type": "code",
   "execution_count": null,
   "id": "412e7e79-682a-4f04-8c9e-074affda6a22",
   "metadata": {},
   "outputs": [
    {
     "name": "stdout",
     "output_type": "stream",
     "text": [
      "Found existing installation: seaborn 0.13.2\n",
      "Uninstalling seaborn-0.13.2:\n",
      "  Would remove:\n",
      "    /opt/conda/lib/python3.10/site-packages/seaborn-0.13.2.dist-info/*\n",
      "    /opt/conda/lib/python3.10/site-packages/seaborn/*\n",
      "Proceed (Y/n)? "
     ]
    }
   ],
   "source": [
    "!pip uninstall seaborn"
   ]
  },
  {
   "cell_type": "code",
   "execution_count": 14,
   "id": "8abb702b-2840-48ae-833e-b081d21326d5",
   "metadata": {},
   "outputs": [
    {
     "name": "stdout",
     "output_type": "stream",
     "text": [
      "plot curve of /out/20240309_054830/vis_data/scalars.json, metric is bbox_mAP\n",
      "plot curve of /out/20240309_054830/vis_data/scalars.json, metric is bbox_mAP_50\n",
      "plot curve of /out/20240309_054830/vis_data/scalars.json, metric is bbox_mAP_75\n",
      "save curve to: ./bbox_mAP.jpg\n"
     ]
    }
   ],
   "source": [
    "!python /workspace/mmdetection/tools/analysis_tools/analyze_logs.py plot_curve /out/20240309_054830/vis_data/scalars.json --keys bbox_mAP bbox_mAP_50 bbox_mAP_75 --out ./bbox_mAP.jpg --legend mAP mAP_50 mAP_75"
   ]
  },
  {
   "cell_type": "code",
   "execution_count": 13,
   "id": "22196135-1805-4c52-a029-cef096811b69",
   "metadata": {},
   "outputs": [
    {
     "name": "stdout",
     "output_type": "stream",
     "text": [
      "plot curve of /out/20240309_054830/vis_data/scalars.json, metric is lr\n",
      "plot curve of /out/20240309_054830/vis_data/scalars.json, metric is base_lr\n",
      "save curve to: ./lr.jpg\n"
     ]
    }
   ],
   "source": [
    "!python /workspace/mmdetection/tools/analysis_tools/analyze_logs.py plot_curve /out/20240309_054830/vis_data/scalars.json --keys lr --out ./lr.jpg --legend lr "
   ]
  },
  {
   "cell_type": "code",
   "execution_count": null,
   "id": "a9dd0286-4bbe-4880-983a-506ac5dc86f7",
   "metadata": {},
   "outputs": [],
   "source": []
  }
 ],
 "metadata": {
  "kernelspec": {
   "display_name": "Python 3 (ipykernel)",
   "language": "python",
   "name": "python3"
  },
  "language_info": {
   "codemirror_mode": {
    "name": "ipython",
    "version": 3
   },
   "file_extension": ".py",
   "mimetype": "text/x-python",
   "name": "python",
   "nbconvert_exporter": "python",
   "pygments_lexer": "ipython3",
   "version": "3.10.13"
  }
 },
 "nbformat": 4,
 "nbformat_minor": 5
}
