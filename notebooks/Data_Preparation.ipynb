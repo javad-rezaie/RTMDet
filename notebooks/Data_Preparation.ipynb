{
 "cells": [
  {
   "cell_type": "code",
   "execution_count": 1,
   "metadata": {},
   "outputs": [],
   "source": [
    "import json\n",
    "from sahi.utils.coco import Coco, CocoCategory, CocoImage, CocoAnnotation\n",
    "from sahi.utils.file import save_json"
   ]
  },
  {
   "cell_type": "markdown",
   "metadata": {},
   "source": [
    "## Download data:\n",
    "### Download and unzip datasets from https://datasets.simula.no/kvasir-instrument/ to the current folder"
   ]
  },
  {
   "cell_type": "code",
   "execution_count": 2,
   "metadata": {},
   "outputs": [],
   "source": [
    "with open(\"./bboxes.json\", \"rb\") as f:\n",
    "    data = json.load(f)"
   ]
  },
  {
   "cell_type": "code",
   "execution_count": 3,
   "metadata": {},
   "outputs": [],
   "source": [
    "with open(\"./train.txt\", \"r\") as f:\n",
    "    train_images = f.readlines()\n",
    "train_images = [img.strip() for img in train_images]\n",
    "with open(\"./test.txt\", \"r\") as f:\n",
    "    test_images = f.readlines()\n",
    "test_images = [img.strip() for img in test_images]"
   ]
  },
  {
   "cell_type": "code",
   "execution_count": 4,
   "metadata": {},
   "outputs": [],
   "source": [
    "coco_train = Coco()\n",
    "coco_train.add_category(CocoCategory(id=0, name='instrument'))\n",
    "coco_test = Coco()\n",
    "coco_test.add_category(CocoCategory(id=0, name='instrument'))"
   ]
  },
  {
   "cell_type": "code",
   "execution_count": 5,
   "metadata": {},
   "outputs": [],
   "source": [
    "def return_coco(coco, data, file_list):\n",
    "    for i, d in enumerate(data.items()):\n",
    "        if d[0] not in file_list:\n",
    "            continue\n",
    "        coco_image = CocoImage(file_name=d[0]+\".jpg\", height=d[1][\"height\"], width=d[1][\"width\"])\n",
    "\n",
    "        \n",
    "        for j, bbox in enumerate(d[1][\"bbox\"]):\n",
    "            if bbox[\"label\"] != \"instrument\":\n",
    "                print(bbox[\"label\"])\n",
    "            coco_image.add_annotation(\n",
    "                CocoAnnotation(\n",
    "                bbox=[bbox[\"xmin\"],bbox[\"ymin\"],(bbox[\"xmax\"]-bbox[\"xmin\"]),(bbox[\"ymax\"]-bbox[\"ymin\"])],\n",
    "                category_id=0,\n",
    "                category_name='instrument'\n",
    "                )\n",
    "            )\n",
    "        coco.add_image(coco_image)\n",
    "      \n",
    "    return coco  \n",
    "        "
   ]
  },
  {
   "cell_type": "code",
   "execution_count": 6,
   "metadata": {},
   "outputs": [],
   "source": [
    "train_coco = return_coco(coco_train, data, train_images)\n",
    "test_coco = return_coco(coco_test, data, test_images)"
   ]
  },
  {
   "cell_type": "code",
   "execution_count": 7,
   "metadata": {},
   "outputs": [],
   "source": [
    "save_json(data=train_coco.json, save_path=\"./train_coco.json\")\n",
    "save_json(data=test_coco.json, save_path=\"./test_coco.json\")"
   ]
  },
  {
   "cell_type": "code",
   "execution_count": null,
   "metadata": {},
   "outputs": [],
   "source": []
  }
 ],
 "metadata": {
  "kernelspec": {
   "display_name": "Python 3",
   "language": "python",
   "name": "python3"
  },
  "language_info": {
   "codemirror_mode": {
    "name": "ipython",
    "version": 3
   },
   "file_extension": ".py",
   "mimetype": "text/x-python",
   "name": "python",
   "nbconvert_exporter": "python",
   "pygments_lexer": "ipython3",
   "version": "3.11.6"
  }
 },
 "nbformat": 4,
 "nbformat_minor": 2
}
